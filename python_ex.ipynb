{
  "nbformat": 4,
  "nbformat_minor": 0,
  "metadata": {
    "colab": {
      "provenance": []
    },
    "kernelspec": {
      "name": "python3",
      "display_name": "Python 3"
    },
    "language_info": {
      "name": "python"
    }
  },
  "cells": [
    {
      "cell_type": "markdown",
      "source": [
        "**Basics-cs(2)**"
      ],
      "metadata": {
        "id": "SePPhE8mA7Ob"
      }
    },
    {
      "cell_type": "markdown",
      "source": [
        "**Calculate the multiplication and sum of two numbers**\n"
      ],
      "metadata": {
        "id": "KsiRHNUNvh8X"
      }
    },
    {
      "cell_type": "code",
      "execution_count": null,
      "metadata": {
        "colab": {
          "base_uri": "https://localhost:8080/"
        },
        "id": "ALcOlzszQC1z",
        "outputId": "01a93860-e329-44c6-9bdf-0a8b34c47304"
      },
      "outputs": [
        {
          "output_type": "stream",
          "name": "stdout",
          "text": [
            "Result of product 600\n",
            "Sum of the numbers 70\n"
          ]
        }
      ],
      "source": [
        "num1=20\n",
        "num2=30\n",
        "print(\"Result of product\",num1*num2)\n",
        "\n",
        "num1=40\n",
        "num2=30\n",
        "print(\"Sum of the numbers\",num1+num2)"
      ]
    },
    {
      "cell_type": "markdown",
      "source": [
        " **Print the Sum of a Current Number and a Previous number**\n"
      ],
      "metadata": {
        "id": "8nVRe7n5vnZm"
      }
    },
    {
      "cell_type": "code",
      "source": [
        "a = 10\n",
        "for i in range(1, a + 1):\n",
        "    previous_num = i - 1\n",
        "    a_sum = previous_num + i\n",
        "    print(\"Current_Number\", i, \"Previous_Number\", previous_num, \"Sum:\", a_sum)"
      ],
      "metadata": {
        "colab": {
          "base_uri": "https://localhost:8080/"
        },
        "id": "XaaDoYUQRLmH",
        "outputId": "e76cbc3d-42d3-427c-fcc5-2e31ee68765f"
      },
      "execution_count": null,
      "outputs": [
        {
          "output_type": "stream",
          "name": "stdout",
          "text": [
            "Current_Number 1 Previous_Number 0 Sum: 1\n",
            "Current_Number 2 Previous_Number 1 Sum: 3\n",
            "Current_Number 3 Previous_Number 2 Sum: 5\n",
            "Current_Number 4 Previous_Number 3 Sum: 7\n",
            "Current_Number 5 Previous_Number 4 Sum: 9\n",
            "Current_Number 6 Previous_Number 5 Sum: 11\n",
            "Current_Number 7 Previous_Number 6 Sum: 13\n",
            "Current_Number 8 Previous_Number 7 Sum: 15\n",
            "Current_Number 9 Previous_Number 8 Sum: 17\n",
            "Current_Number 10 Previous_Number 9 Sum: 19\n"
          ]
        }
      ]
    },
    {
      "cell_type": "markdown",
      "source": [
        "**Print characters present at an even index number**"
      ],
      "metadata": {
        "id": "R8zr-VI6vy70"
      }
    },
    {
      "cell_type": "code",
      "source": [
        "a= input('Enter word ')\n",
        "print(\"String:\", a)\n",
        "x = list(a)\n",
        "for i in x[0::2]:print(i)"
      ],
      "metadata": {
        "colab": {
          "base_uri": "https://localhost:8080/"
        },
        "id": "E2W-Q5PNSPhz",
        "outputId": "64594b81-b8a0-462a-da9f-9ff6350b60da"
      },
      "execution_count": null,
      "outputs": [
        {
          "output_type": "stream",
          "name": "stdout",
          "text": [
            "Enter word Nikileswari\n",
            "String: Nikileswari\n",
            "N\n",
            "k\n",
            "l\n",
            "s\n",
            "a\n",
            "i\n"
          ]
        }
      ]
    },
    {
      "cell_type": "markdown",
      "source": [
        "**Remove first n characters from a string**"
      ],
      "metadata": {
        "id": "Z9b-jtTVv2Is"
      }
    },
    {
      "cell_type": "code",
      "source": [
        "def removech(word, n):\n",
        "    print('String:', word)\n",
        "    x = word[n:]\n",
        "    return x\n",
        "print(\"Removing ch's from a string\")\n",
        "print(removech(\"Nikileswari\", 4))\n",
        "print(removech(\"Nikileswari\", 2))"
      ],
      "metadata": {
        "colab": {
          "base_uri": "https://localhost:8080/"
        },
        "id": "5zU6Vd2kS7zY",
        "outputId": "86968c05-554b-4b08-fbeb-c13fd45e1cfd"
      },
      "execution_count": null,
      "outputs": [
        {
          "output_type": "stream",
          "name": "stdout",
          "text": [
            "Removing ch's from a string\n",
            "String: Nikileswari\n",
            "leswari\n",
            "String: Nikileswari\n",
            "kileswari\n"
          ]
        }
      ]
    },
    {
      "cell_type": "markdown",
      "source": [
        "**Check if the first and last numbers of a list are the same**"
      ],
      "metadata": {
        "id": "Ysm8bRQ3wRNX"
      }
    },
    {
      "cell_type": "code",
      "source": [
        "numbers_x = [10, 20, 30, 40, 10]\n",
        "numbers_y = [75, 65, 35, 75, 30]\n",
        "print(\"Given List:\",numbers_x)\n",
        "if numbers_x[0]==numbers_x[-1]:\n",
        "  print(\"true\")\n",
        "elif numbers_x[0]!=numbers_x[-1]:\n",
        "  print(\"false\")\n",
        "\n",
        "print(\"Given List:\",numbers_y)\n",
        "if numbers_y[0]==numbers_y[-1]:\n",
        "  print(\"true\")\n",
        "elif numbers_y[0]!=numbers_y[-1]:\n",
        "  print(\"false\")"
      ],
      "metadata": {
        "colab": {
          "base_uri": "https://localhost:8080/"
        },
        "id": "WKsdGSuzTb5D",
        "outputId": "64c0079e-d11b-473d-e920-4fc8d1b5f3cd"
      },
      "execution_count": null,
      "outputs": [
        {
          "output_type": "stream",
          "name": "stdout",
          "text": [
            "Given List: [10, 20, 30, 40, 10]\n",
            "true\n",
            "Given List: [75, 65, 35, 75, 30]\n",
            "false\n"
          ]
        }
      ]
    },
    {
      "cell_type": "markdown",
      "source": [
        "**Display numbers divisible by 5**"
      ],
      "metadata": {
        "id": "hJo75NnkwT8X"
      }
    },
    {
      "cell_type": "code",
      "source": [
        "numbers_list=[10, 20, 33, 46, 55]\n",
        "print('Divisible by 5:')\n",
        "for num in numbers_list:\n",
        "    if num % 5 == 0:\n",
        "        print(num)"
      ],
      "metadata": {
        "colab": {
          "base_uri": "https://localhost:8080/"
        },
        "id": "s5so_niKUn8B",
        "outputId": "4f45a914-853a-4dac-f328-dfbb754d268c"
      },
      "execution_count": null,
      "outputs": [
        {
          "output_type": "stream",
          "name": "stdout",
          "text": [
            "Divisible by 5:\n",
            "10\n",
            "20\n",
            "55\n"
          ]
        }
      ]
    },
    {
      "cell_type": "markdown",
      "source": [
        "**Find the number of occurrences of a substring in a string**"
      ],
      "metadata": {
        "id": "QelwC1Y1wWZU"
      }
    },
    {
      "cell_type": "code",
      "source": [
        "str_x = \"Emma is good developer. Emma is a writer\"\n",
        "y= str_x.count(\"Emma\")\n",
        "print(\"Emma appeared for\",y)"
      ],
      "metadata": {
        "colab": {
          "base_uri": "https://localhost:8080/"
        },
        "id": "UaQ4BC1LXXm7",
        "outputId": "d16f9126-cce3-4eeb-b8d2-ccb6f182a3a8"
      },
      "execution_count": null,
      "outputs": [
        {
          "output_type": "stream",
          "name": "stdout",
          "text": [
            "Emma appeared for 2\n"
          ]
        }
      ]
    },
    {
      "cell_type": "markdown",
      "source": [
        "**Print the following pattern**"
      ],
      "metadata": {
        "id": "onofBli2wjGs"
      }
    },
    {
      "cell_type": "code",
      "source": [
        "for num in range(6):\n",
        "    for i in range(num):\n",
        "        print (num, end=\" \")\n",
        "    print(\"\\n\")"
      ],
      "metadata": {
        "colab": {
          "base_uri": "https://localhost:8080/"
        },
        "id": "Kb8l7Do2X-A2",
        "outputId": "36586b98-1b10-4df8-e234-c5f4e210b4d7"
      },
      "execution_count": null,
      "outputs": [
        {
          "output_type": "stream",
          "name": "stdout",
          "text": [
            "\n",
            "\n",
            "1 \n",
            "\n",
            "2 2 \n",
            "\n",
            "3 3 3 \n",
            "\n",
            "4 4 4 4 \n",
            "\n",
            "5 5 5 5 5 \n",
            "\n"
          ]
        }
      ]
    },
    {
      "cell_type": "markdown",
      "source": [
        "**Check Palindrome Number**"
      ],
      "metadata": {
        "id": "xszTNsgIwrZC"
      }
    },
    {
      "cell_type": "code",
      "source": [
        "number=int(input(\"Enter number:\"))\n",
        "sample=number\n",
        "reverse=0\n",
        "while(number>0):\n",
        "    digit=number%10\n",
        "    reverse=reverse*10+digit\n",
        "    number=number//10\n",
        "if(sample==reverse):\n",
        "    print(\"the number is a palindrome\")\n",
        "else:\n",
        "  print(\"the number is not a palindrome\")"
      ],
      "metadata": {
        "id": "PJ83F5xkYvv4",
        "colab": {
          "base_uri": "https://localhost:8080/"
        },
        "outputId": "280fcd27-e8c0-49d5-8d59-23b0db4503a4"
      },
      "execution_count": null,
      "outputs": [
        {
          "output_type": "stream",
          "name": "stdout",
          "text": [
            "Enter number:141\n",
            "the number is a palindrome\n"
          ]
        }
      ]
    },
    {
      "cell_type": "markdown",
      "source": [
        "**Merge two lists using the following condition**"
      ],
      "metadata": {
        "id": "zWZYDJNqwuyJ"
      }
    },
    {
      "cell_type": "code",
      "source": [
        "list1 = [10, 20, 25, 30, 35]\n",
        "list2 = [40, 45, 60, 75, 90]\n",
        "print(\"odd numbers in list1\")\n",
        "for num in list1:\n",
        "    if num % 2 != 0:\n",
        "        print(num)\n",
        "print(\"even numbers in list2\")\n",
        "for num1 in list2:\n",
        "    if num1 % 2 == 0:\n",
        "        print(num1)\n",
        "result=[]\n",
        "result.append(num)\n",
        "result.append(num1)\n",
        "print(result)\n",
        "list3= num+num1\n",
        "print(list3)"
      ],
      "metadata": {
        "colab": {
          "base_uri": "https://localhost:8080/"
        },
        "id": "7RxmBjgJcgSj",
        "outputId": "24d96eab-4810-4e79-d24c-38760a2a75f0"
      },
      "execution_count": null,
      "outputs": [
        {
          "output_type": "stream",
          "name": "stdout",
          "text": [
            "odd numbers in list1\n",
            "25\n",
            "35\n",
            "even numbers in list2\n",
            "40\n",
            "60\n",
            "90\n",
            "[35, 90]\n",
            "125\n"
          ]
        }
      ]
    },
    {
      "cell_type": "markdown",
      "source": [
        "**Get each digit from a number in the reverse order**"
      ],
      "metadata": {
        "id": "RNF9PXH5wyZS"
      }
    },
    {
      "cell_type": "code",
      "source": [
        "number = 7536\n",
        "print(\"Given number\", number)\n",
        "while number > 0:\n",
        "    digit = number % 10\n",
        "    number = number // 10\n",
        "    print(digit, end=\" \")"
      ],
      "metadata": {
        "colab": {
          "base_uri": "https://localhost:8080/"
        },
        "id": "X95ZCREMc-Qn",
        "outputId": "c37f677d-d66f-407e-bae1-e0eb9829132e"
      },
      "execution_count": null,
      "outputs": [
        {
          "output_type": "stream",
          "name": "stdout",
          "text": [
            "Given number 7536\n",
            "6 3 5 7 "
          ]
        }
      ]
    },
    {
      "cell_type": "markdown",
      "source": [
        "**Calculate income tax**"
      ],
      "metadata": {
        "id": "6SdktVCqw1Wg"
      }
    },
    {
      "cell_type": "code",
      "source": [
        "income = 45000\n",
        "tax_pay = 0\n",
        "print(\"income\", income)\n",
        "if income <= 10000:\n",
        "    tax_pay = 0\n",
        "elif income <= 20000:\n",
        "    x = income - 10000\n",
        "    tax_pay = x * 10 / 100\n",
        "else:\n",
        "    tax_pay = 0\n",
        "    tax_pay = 10000 * 10 / 100\n",
        "    tax_pay += (income - 20000) * 20 / 100\n",
        "\n",
        "print(\"Total tax \", tax_pay)"
      ],
      "metadata": {
        "colab": {
          "base_uri": "https://localhost:8080/"
        },
        "id": "_D0NyRFjdeol",
        "outputId": "4fefb79c-58dc-4e51-84ce-cf9fe43a8904"
      },
      "execution_count": null,
      "outputs": [
        {
          "output_type": "stream",
          "name": "stdout",
          "text": [
            "income 45000\n",
            "Total tax  6000.0\n"
          ]
        }
      ]
    },
    {
      "cell_type": "markdown",
      "source": [
        "**Print multiplication table from 1 to 10**"
      ],
      "metadata": {
        "id": "IsAwL-Fiw7KG"
      }
    },
    {
      "cell_type": "code",
      "source": [
        "for i in range(1, 11):\n",
        "    for j in range(1, 11):\n",
        "        print(i * j, end=\" \")\n",
        "    print(\"\\t\")"
      ],
      "metadata": {
        "colab": {
          "base_uri": "https://localhost:8080/"
        },
        "id": "86PQYrSMeJOY",
        "outputId": "067923c3-fb99-48f5-fe38-cdf8b05f110c"
      },
      "execution_count": null,
      "outputs": [
        {
          "output_type": "stream",
          "name": "stdout",
          "text": [
            "1 2 3 4 5 6 7 8 9 10 \t\n",
            "2 4 6 8 10 12 14 16 18 20 \t\n",
            "3 6 9 12 15 18 21 24 27 30 \t\n",
            "4 8 12 16 20 24 28 32 36 40 \t\n",
            "5 10 15 20 25 30 35 40 45 50 \t\n",
            "6 12 18 24 30 36 42 48 54 60 \t\n",
            "7 14 21 28 35 42 49 56 63 70 \t\n",
            "8 16 24 32 40 48 56 64 72 80 \t\n",
            "9 18 27 36 45 54 63 72 81 90 \t\n",
            "10 20 30 40 50 60 70 80 90 100 \t\n"
          ]
        }
      ]
    },
    {
      "cell_type": "markdown",
      "source": [
        "**Print a downward half-pyramid pattern of stars**"
      ],
      "metadata": {
        "id": "viilmkVPw9vu"
      }
    },
    {
      "cell_type": "code",
      "source": [
        "for i in range(5, 0, -1):\n",
        "    for j in range(0, i - 1):\n",
        "        print(\"*\", end=' ')\n",
        "    print(\" \")"
      ],
      "metadata": {
        "colab": {
          "base_uri": "https://localhost:8080/"
        },
        "id": "BSJFrBcTtw_8",
        "outputId": "5d33c5a7-a3ce-4525-ce10-252d650c9514"
      },
      "execution_count": null,
      "outputs": [
        {
          "output_type": "stream",
          "name": "stdout",
          "text": [
            "* * * *  \n",
            "* * *  \n",
            "* *  \n",
            "*  \n",
            " \n"
          ]
        }
      ]
    },
    {
      "cell_type": "markdown",
      "source": [
        "**Get an int value of base raises to the power of exponent**"
      ],
      "metadata": {
        "id": "p82ErL8ExBFG"
      }
    },
    {
      "cell_type": "code",
      "source": [
        "def exponent(base,exp):\n",
        "    result = 1\n",
        "    for i in range(exp):\n",
        "        result *= base\n",
        "\n",
        "    return result\n",
        "\n",
        "print(exponent(2,5))\n",
        "print(exponent(5,4))"
      ],
      "metadata": {
        "colab": {
          "base_uri": "https://localhost:8080/"
        },
        "id": "GBhUWKkit6u_",
        "outputId": "1d0c0a90-0507-4a4e-abc3-0f5f53e54d39"
      },
      "execution_count": null,
      "outputs": [
        {
          "output_type": "stream",
          "name": "stdout",
          "text": [
            "32\n",
            "625\n"
          ]
        }
      ]
    },
    {
      "cell_type": "markdown",
      "source": [
        "**CS-3 LOOP**"
      ],
      "metadata": {
        "id": "T2lMLGCiPiPN"
      }
    },
    {
      "cell_type": "markdown",
      "source": [
        "**Print first 10 natural numbers using while loop**\n"
      ],
      "metadata": {
        "id": "Ud9pRJR3OuO3"
      }
    },
    {
      "cell_type": "code",
      "source": [
        "i=int(input(\"Enter the start range: \"))\n",
        "n=int(input(\"Enter the end range: \"))\n",
        "while i<=n:\n",
        "  print(i)\n",
        "  i+=1"
      ],
      "metadata": {
        "id": "2YVfJw9dCfiJ",
        "colab": {
          "base_uri": "https://localhost:8080/"
        },
        "outputId": "b843d34a-8e03-47f5-a5f6-f798608ce65d"
      },
      "execution_count": null,
      "outputs": [
        {
          "output_type": "stream",
          "name": "stdout",
          "text": [
            "Enter the start range: 5\n",
            "Enter the end range: 5\n",
            "5\n"
          ]
        }
      ]
    },
    {
      "cell_type": "markdown",
      "source": [
        "**Print the following pattern**"
      ],
      "metadata": {
        "id": "2spRFf00OxlG"
      }
    },
    {
      "cell_type": "code",
      "source": [
        "for i in range(1,6):\n",
        "  for j in range(1,i+1):\n",
        "    print(j,end=\"\")\n",
        "  print()"
      ],
      "metadata": {
        "colab": {
          "base_uri": "https://localhost:8080/"
        },
        "id": "o2OAtPUBIOTu",
        "outputId": "8d780f81-e0d5-4175-f1c6-82b81bee74a9"
      },
      "execution_count": null,
      "outputs": [
        {
          "output_type": "stream",
          "name": "stdout",
          "text": [
            "1\n",
            "12\n",
            "123\n",
            "1234\n",
            "12345\n"
          ]
        }
      ]
    },
    {
      "cell_type": "markdown",
      "source": [
        "**Calculate sum of all numbers from 1 to a given number**"
      ],
      "metadata": {
        "id": "fFVqZyQYO11H"
      }
    },
    {
      "cell_type": "code",
      "source": [
        "n=int(input('Enter a  number: '))\n",
        "sum=0\n",
        "for i in range(1,n+1):\n",
        "  sum=sum+i\n",
        "print(sum)\n"
      ],
      "metadata": {
        "colab": {
          "base_uri": "https://localhost:8080/"
        },
        "id": "2h1PiH8sIQ39",
        "outputId": "e08f3955-aecb-4132-c714-e4bacb2e86b8"
      },
      "execution_count": null,
      "outputs": [
        {
          "output_type": "stream",
          "name": "stdout",
          "text": [
            "Enter a  number: 5\n",
            "15\n"
          ]
        }
      ]
    },
    {
      "cell_type": "markdown",
      "source": [
        "**Print multiplication table of a given number**"
      ],
      "metadata": {
        "id": "1JOk-KR4On3B"
      }
    },
    {
      "cell_type": "code",
      "source": [
        "n=int(input('Enter a number: '))\n",
        "t=int(input('Enter the range value: '))\n",
        "for i in range(1,t+1):\n",
        "  mul=n*i\n",
        "  print(f'{n} * {i} = {mul}')"
      ],
      "metadata": {
        "colab": {
          "base_uri": "https://localhost:8080/"
        },
        "id": "3jIBpQ6ZIX49",
        "outputId": "86c3e131-e26e-49f7-f571-030d34dba5c6"
      },
      "execution_count": null,
      "outputs": [
        {
          "output_type": "stream",
          "name": "stdout",
          "text": [
            "Enter a number: 5\n",
            "Enter the range value: 6\n",
            "5 * 1 = 5\n",
            "5 * 2 = 10\n",
            "5 * 3 = 15\n",
            "5 * 4 = 20\n",
            "5 * 5 = 25\n",
            "5 * 6 = 30\n"
          ]
        }
      ]
    },
    {
      "cell_type": "markdown",
      "source": [
        "**Display numbers from a list using a loop**"
      ],
      "metadata": {
        "id": "r0AHHE8JOiQz"
      }
    },
    {
      "cell_type": "code",
      "source": [
        "numbers = [12, 75, 150, 180, 145, 525, 50]\n",
        "for num in numbers:\n",
        "  if num%5==0:\n",
        "    if num>150:\n",
        "      continue\n",
        "    elif num>500:\n",
        "      break\n",
        "    print(num)"
      ],
      "metadata": {
        "colab": {
          "base_uri": "https://localhost:8080/"
        },
        "id": "tKD1BNkvIeX9",
        "outputId": "1ac34af9-0547-4ef5-be50-c25b9a526b83"
      },
      "execution_count": null,
      "outputs": [
        {
          "output_type": "stream",
          "name": "stdout",
          "text": [
            "75\n",
            "150\n",
            "145\n",
            "50\n"
          ]
        }
      ]
    },
    {
      "cell_type": "markdown",
      "source": [
        "**Count the total number of digits in a number**"
      ],
      "metadata": {
        "id": "cNPXnE6-OLhM"
      }
    },
    {
      "cell_type": "code",
      "source": [
        "n=int(input('Enter a number: '))\n",
        "count=0\n",
        "while n!=0:\n",
        "  n=n//10\n",
        "  count=count+1\n",
        "print(count)"
      ],
      "metadata": {
        "colab": {
          "base_uri": "https://localhost:8080/"
        },
        "id": "xU9WJ4-CImBF",
        "outputId": "8ef7c467-096f-4409-c396-6398a5fcb8e7"
      },
      "execution_count": null,
      "outputs": [
        {
          "output_type": "stream",
          "name": "stdout",
          "text": [
            "Enter a number: 5\n",
            "1\n"
          ]
        }
      ]
    },
    {
      "cell_type": "markdown",
      "source": [
        "**Print the following pattern**"
      ],
      "metadata": {
        "id": "8mv8EnMvOHp0"
      }
    },
    {
      "cell_type": "code",
      "source": [
        "for i in range(6,0,-1):\n",
        "  for j in range(i,0,-1):\n",
        "    print(j,end='')\n",
        "  print()"
      ],
      "metadata": {
        "colab": {
          "base_uri": "https://localhost:8080/"
        },
        "id": "631V6PKtIppN",
        "outputId": "e18fe83a-8809-431e-a929-7602b5be5b41"
      },
      "execution_count": null,
      "outputs": [
        {
          "output_type": "stream",
          "name": "stdout",
          "text": [
            "654321\n",
            "54321\n",
            "4321\n",
            "321\n",
            "21\n",
            "1\n"
          ]
        }
      ]
    },
    {
      "cell_type": "markdown",
      "source": [
        "**Print list in reverse order using a loop**"
      ],
      "metadata": {
        "id": "6AMUskXtN8yQ"
      }
    },
    {
      "cell_type": "code",
      "source": [
        "l1=[10,20,30,40,50]\n",
        "for i in range(len(l1)-1,-1,-1):\n",
        "  print(l1[i])"
      ],
      "metadata": {
        "colab": {
          "base_uri": "https://localhost:8080/"
        },
        "id": "85QjWy0cIvkd",
        "outputId": "88775370-4906-46c7-f24b-0395283f18e3"
      },
      "execution_count": null,
      "outputs": [
        {
          "output_type": "stream",
          "name": "stdout",
          "text": [
            "50\n",
            "40\n",
            "30\n",
            "20\n",
            "10\n"
          ]
        }
      ]
    },
    {
      "cell_type": "markdown",
      "source": [
        "**Display numbers from -10 to -1 using for loop**"
      ],
      "metadata": {
        "id": "ezJD35hlN7Ew"
      }
    },
    {
      "cell_type": "code",
      "source": [
        "for i in range(-10,0):\n",
        "  print(i)"
      ],
      "metadata": {
        "colab": {
          "base_uri": "https://localhost:8080/"
        },
        "id": "T4JJdPGcIzx9",
        "outputId": "18c394f5-52f3-4b37-9947-1f71ece254ad"
      },
      "execution_count": null,
      "outputs": [
        {
          "output_type": "stream",
          "name": "stdout",
          "text": [
            "-10\n",
            "-9\n",
            "-8\n",
            "-7\n",
            "-6\n",
            "-5\n",
            "-4\n",
            "-3\n",
            "-2\n",
            "-1\n"
          ]
        }
      ]
    },
    {
      "cell_type": "markdown",
      "source": [
        "**Display a message “Done” after the successful execution of the for loop**"
      ],
      "metadata": {
        "id": "OIaedmSaNE4z"
      }
    },
    {
      "cell_type": "code",
      "source": [
        "for i in range(5):\n",
        "  print(i)\n",
        "else:\n",
        "  print('Done!')"
      ],
      "metadata": {
        "colab": {
          "base_uri": "https://localhost:8080/"
        },
        "id": "xJZW2TZpI3C1",
        "outputId": "e5f103e9-ad20-43ca-f40f-b51d8022d552"
      },
      "execution_count": null,
      "outputs": [
        {
          "output_type": "stream",
          "name": "stdout",
          "text": [
            "0\n",
            "1\n",
            "2\n",
            "3\n",
            "4\n",
            "Done!\n"
          ]
        }
      ]
    },
    {
      "cell_type": "markdown",
      "source": [
        "**Print all prime numbers within a range**\n"
      ],
      "metadata": {
        "id": "cjGFvthANKYr"
      }
    },
    {
      "cell_type": "code",
      "source": [
        "s=int(input('Enter the start range: '))\n",
        "e=int(input('Enter the end range: '))\n",
        "for i in range(s,e):\n",
        "    if i>1:\n",
        "        for j in range (2,i):\n",
        "            if i%j==0:\n",
        "                break\n",
        "        else:\n",
        "            print(i)"
      ],
      "metadata": {
        "colab": {
          "base_uri": "https://localhost:8080/"
        },
        "id": "jflDq36bI5kN",
        "outputId": "3a9f144a-008c-43a8-addb-71d40bee96a0"
      },
      "execution_count": null,
      "outputs": [
        {
          "output_type": "stream",
          "name": "stdout",
          "text": [
            "Enter the start range: 10\n",
            "Enter the end range: 20\n",
            "11\n",
            "13\n",
            "17\n",
            "19\n"
          ]
        }
      ]
    },
    {
      "cell_type": "markdown",
      "source": [
        "**Display Fibonacci series up to 10 terms**\n"
      ],
      "metadata": {
        "id": "1pGCWgJrNOfk"
      }
    },
    {
      "cell_type": "code",
      "source": [
        "n = int(input(\"Enter the number of terms: \"))\n",
        "a, b = 0, 1\n",
        "count = 0\n",
        "\n",
        "if n <= 0:\n",
        "    print(\"Please enter a positive integer.\")\n",
        "elif n == 1:\n",
        "    print(\"Fibonacci sequence:\")\n",
        "    print(a)\n",
        "else:\n",
        "    print(\"Fibonacci sequence:\")\n",
        "    for i in range (n):\n",
        "        print(a, end=\" \")\n",
        "        temp = a + b\n",
        "        a = b\n",
        "        b = temp\n",
        "        count += 1\n"
      ],
      "metadata": {
        "colab": {
          "base_uri": "https://localhost:8080/"
        },
        "id": "1WKJy0uDJDa2",
        "outputId": "3ac70bda-e12f-45e5-fe24-06f40ef073bc"
      },
      "execution_count": null,
      "outputs": [
        {
          "output_type": "stream",
          "name": "stdout",
          "text": [
            "Enter the number of terms: 5\n",
            "Fibonacci sequence:\n",
            "0 1 1 2 3 "
          ]
        }
      ]
    },
    {
      "cell_type": "markdown",
      "source": [
        "**Find the factorial of a given number**"
      ],
      "metadata": {
        "id": "u0YqgayYNSSz"
      }
    },
    {
      "cell_type": "code",
      "source": [
        "n=int(input('Enter a number: '))\n",
        "fact=1\n",
        "for i in range(1,n+1):\n",
        "  fact=fact*i\n",
        "print(fact)\n"
      ],
      "metadata": {
        "colab": {
          "base_uri": "https://localhost:8080/"
        },
        "id": "k0o7DPfvJHet",
        "outputId": "f5897322-fe90-48f1-f2ff-ca93f3b5401c"
      },
      "execution_count": null,
      "outputs": [
        {
          "output_type": "stream",
          "name": "stdout",
          "text": [
            "Enter a number: 7\n",
            "5040\n"
          ]
        }
      ]
    },
    {
      "cell_type": "markdown",
      "source": [
        "**Reverse a integer number**"
      ],
      "metadata": {
        "id": "8uERT2l3NVWT"
      }
    },
    {
      "cell_type": "code",
      "source": [
        "n= int(input('Enter the integer: '))\n",
        "rev=0\n",
        "for i in range(n):\n",
        "  if n!=0:\n",
        "    rem=n%10\n",
        "    rev=rev*10+rem\n",
        "    n=n//10\n",
        "print(rev)"
      ],
      "metadata": {
        "colab": {
          "base_uri": "https://localhost:8080/"
        },
        "id": "9OY57DoQJKdd",
        "outputId": "e20e22f8-15c7-401e-9128-a43e8ccf1e4f"
      },
      "execution_count": null,
      "outputs": [
        {
          "output_type": "stream",
          "name": "stdout",
          "text": [
            "Enter the integer: 12345\n",
            "54321\n"
          ]
        }
      ]
    },
    {
      "cell_type": "markdown",
      "source": [
        "**Print elements from a given list present at odd index positions**"
      ],
      "metadata": {
        "id": "Ane5BzKdNYDc"
      }
    },
    {
      "cell_type": "code",
      "source": [
        "my_list = [10, 20, 30, 40, 50, 60, 70, 80, 90, 100]\n",
        "print(my_list[1::2])"
      ],
      "metadata": {
        "colab": {
          "base_uri": "https://localhost:8080/"
        },
        "id": "dXGnVLodJUrV",
        "outputId": "770fd3a6-eab8-4a1e-c601-094587be8d3d"
      },
      "execution_count": null,
      "outputs": [
        {
          "output_type": "stream",
          "name": "stdout",
          "text": [
            "[20, 40, 60, 80, 100]\n"
          ]
        }
      ]
    },
    {
      "cell_type": "markdown",
      "source": [
        "**Calculate the cube of all numbers from 1 to a given number**\n"
      ],
      "metadata": {
        "id": "9RQ922IRNb7L"
      }
    },
    {
      "cell_type": "code",
      "source": [
        "n=int(input('Enter the values of starting range: '))\n",
        "for i in range(1,n+1):\n",
        "  print(f'Current number is : {i} and the cube is : {i**3}')"
      ],
      "metadata": {
        "colab": {
          "base_uri": "https://localhost:8080/"
        },
        "id": "M1QWzRAyNj9D",
        "outputId": "54d8e389-adb4-423a-d353-78c5f44f7da1"
      },
      "execution_count": null,
      "outputs": [
        {
          "output_type": "stream",
          "name": "stdout",
          "text": [
            "Enter the values of starting range: 10\n",
            "Current number is : 1 and the cube is : 1\n",
            "Current number is : 2 and the cube is : 8\n",
            "Current number is : 3 and the cube is : 27\n",
            "Current number is : 4 and the cube is : 64\n",
            "Current number is : 5 and the cube is : 125\n",
            "Current number is : 6 and the cube is : 216\n",
            "Current number is : 7 and the cube is : 343\n",
            "Current number is : 8 and the cube is : 512\n",
            "Current number is : 9 and the cube is : 729\n",
            "Current number is : 10 and the cube is : 1000\n"
          ]
        }
      ]
    },
    {
      "cell_type": "markdown",
      "source": [
        "**Find the sum of the series up to n terms**"
      ],
      "metadata": {
        "id": "IOJv2q1dN09A"
      }
    },
    {
      "cell_type": "code",
      "source": [
        "n= int(input('Enter the terms: '))\n",
        "a=int(input('Enter the series number: '))\n",
        "sum=0\n",
        "for i in range(1,n+1):\n",
        "  sum=sum+int(str(a)*i)\n",
        "print(sum)"
      ],
      "metadata": {
        "colab": {
          "base_uri": "https://localhost:8080/"
        },
        "id": "BZCuF_rVJckt",
        "outputId": "13a89d57-c3de-4e2f-90d4-4c236da17db2"
      },
      "execution_count": null,
      "outputs": [
        {
          "output_type": "stream",
          "name": "stdout",
          "text": [
            "Enter the terms: 7\n",
            "Enter the series number: 5\n",
            "6172835\n"
          ]
        }
      ]
    },
    {
      "cell_type": "markdown",
      "source": [
        "**Print the following pattern**\n",
        "\n"
      ],
      "metadata": {
        "id": "oN2LK6Q5KXEa"
      }
    },
    {
      "cell_type": "code",
      "source": [
        "for i in range(4):\n",
        "  for j in range(i+1):\n",
        "    print('*',end=' ')\n",
        "  print()\n",
        "\n",
        "for i in range(5):\n",
        "  for j in range(i-1,4):\n",
        "    print('*',end=' ')\n",
        "  print()"
      ],
      "metadata": {
        "colab": {
          "base_uri": "https://localhost:8080/"
        },
        "id": "pkg8OWrgJgnm",
        "outputId": "03c6532e-c996-4184-c123-a8615005b416"
      },
      "execution_count": null,
      "outputs": [
        {
          "output_type": "stream",
          "name": "stdout",
          "text": [
            "* \n",
            "* * \n",
            "* * * \n",
            "* * * * \n",
            "* * * * * \n",
            "* * * * \n",
            "* * * \n",
            "* * \n",
            "* \n"
          ]
        }
      ]
    },
    {
      "cell_type": "markdown",
      "source": [
        "# **cs if**"
      ],
      "metadata": {
        "id": "bF3OFX17PXr9"
      }
    },
    {
      "cell_type": "markdown",
      "source": [
        "**Grades Assignment :\n",
        "Write a program that assigns grades to students based on their scores.**\n"
      ],
      "metadata": {
        "id": "0B-0STQ1QdQj"
      }
    },
    {
      "cell_type": "code",
      "source": [
        "st_det=[[1,'Aron',98],[2,'Boston',72],[2,'Charles',65],\n",
        " [4,'David',43],[5,'Edward',21]]\n",
        "\n",
        "for student in st_det:\n",
        "  mark=student[2]\n",
        "  if mark>90:\n",
        "    grade='A'\n",
        "  elif mark>80 and mark<=90:\n",
        "    grade='B'\n",
        "  elif mark>70 and mark<=80:\n",
        "    grade='C'\n",
        "  elif mark>60 and mark<=70:\n",
        "    grade='D'\n",
        "  else:\n",
        "    grade='E'\n",
        "\n",
        "  student.append(grade)\n",
        "\n",
        "for student in st_det:\n",
        "  print(student)\n"
      ],
      "metadata": {
        "colab": {
          "base_uri": "https://localhost:8080/"
        },
        "id": "Z_xANd3tQ1hL",
        "outputId": "9144868f-4bb8-438c-a995-58692cbd59cd"
      },
      "execution_count": null,
      "outputs": [
        {
          "output_type": "stream",
          "name": "stdout",
          "text": [
            "[1, 'Aron', 98, 'A']\n",
            "[2, 'Boston', 72, 'C']\n",
            "[2, 'Charles', 65, 'D']\n",
            "[4, 'David', 43, 'E']\n",
            "[5, 'Edward', 21, 'E']\n"
          ]
        }
      ]
    },
    {
      "cell_type": "markdown",
      "source": [
        "**Age Verification :\n",
        "Write a program that checks if a person is eligible to vote**\n"
      ],
      "metadata": {
        "id": "pGDMx55sSy-L"
      }
    },
    {
      "cell_type": "code",
      "source": [
        "data = input(\"Enter student details (Name,Age) separated by semicolons: \")\n",
        "pep_det = []\n",
        "people = data.split(';')\n",
        "for person in people:\n",
        "    people_det = person.split(',')\n",
        "    name = people_det[0]\n",
        "    age = int(people_det[1])\n",
        "    if age >=18:\n",
        "        eligibility = 'Eligible'\n",
        "    else:\n",
        "        eligibility = 'Not Eligible'\n",
        "        pep_det.append([name, age , eligibility])\n",
        "\n",
        "print(\"\\nFinal details:\")\n",
        "for person in pep_det:\n",
        "    print(person)\n"
      ],
      "metadata": {
        "colab": {
          "base_uri": "https://localhost:8080/"
        },
        "id": "azMZKZUASpOW",
        "outputId": "6f2f249a-a437-4c5c-bfed-a14efe9ff00f"
      },
      "execution_count": null,
      "outputs": [
        {
          "output_type": "stream",
          "name": "stdout",
          "text": [
            "Enter student details (Name,Age) separated by semicolons: Sharmila,12;Dharani,19;Gauhar,23;Harshini,21;Yasmin,12\n",
            "\n",
            "Final details:\n",
            "['Sharmila', 12, 'Not Eligible']\n",
            "['Yasmin', 12, 'Not Eligible']\n"
          ]
        }
      ]
    },
    {
      "cell_type": "markdown",
      "source": [
        "**Discount Calculation :\n",
        "Write a program that calculates the final price after applying a discount.**"
      ],
      "metadata": {
        "id": "jp5r1qDPTJVd"
      }
    },
    {
      "cell_type": "code",
      "source": [
        "discount_details=[]\n",
        "while True:\n",
        "  data=input('Enter the details (Product,actual_price,discount): ')\n",
        "  if data=='':\n",
        "    break\n",
        "  data=data.split(',')\n",
        "  product=data[0]\n",
        "  actual_price=int(data[1])\n",
        "  discount=int(data[2])\n",
        "  dis=(actual_price/100)*discount\n",
        "  final_price=actual_price-dis\n",
        "  discount_details.append([product,actual_price,discount,final_price])\n",
        "\n",
        "print('Final details: ')\n",
        "for detail in discount_details:\n",
        "  print(detail)"
      ],
      "metadata": {
        "colab": {
          "base_uri": "https://localhost:8080/"
        },
        "id": "M0bl9Q7qTJsF",
        "outputId": "05f4079a-705c-4ebe-f110-e65cf0f7938d"
      },
      "execution_count": null,
      "outputs": [
        {
          "output_type": "stream",
          "name": "stdout",
          "text": [
            "Enter the details (Product,actual_price,discount): Ball,200,10\n",
            "Enter the details (Product,actual_price,discount):  Bat,800,20\n",
            "Enter the details (Product,actual_price,discount): Football,1200,30\n",
            "Enter the details (Product,actual_price,discount): BasketBall,1290,10\n",
            "Enter the details (Product,actual_price,discount): \n",
            "Final details: \n",
            "['Ball', 200, 10, 180.0]\n",
            "[' Bat', 800, 20, 640.0]\n",
            "['Football', 1200, 30, 840.0]\n",
            "['BasketBall', 1290, 10, 1161.0]\n"
          ]
        }
      ]
    },
    {
      "cell_type": "markdown",
      "source": [
        "**Temperature Conversion :\n",
        "Write a program that converts temperature from Celsius to Fahrenheit.**\n"
      ],
      "metadata": {
        "id": "6RVPAQ3aTKTF"
      }
    },
    {
      "cell_type": "code",
      "source": [
        "c=int(input('Enter the temperature in celcius: '))\n",
        "f=int(input('Enter the temperature in fahrenheit: '))\n",
        "c_to_f=(c*9/5)+32\n",
        "f_to_c=(f-32)*5/9\n",
        "print(f'{c} degree celcius is {c_to_f} fahrenheit')\n",
        "print(f'{f} degree fahrenheit is {f_to_c} celcius')"
      ],
      "metadata": {
        "colab": {
          "base_uri": "https://localhost:8080/"
        },
        "id": "_QiW-J5ATKe2",
        "outputId": "adc14909-8071-48fc-8db3-6b5cd75e325b"
      },
      "execution_count": null,
      "outputs": [
        {
          "output_type": "stream",
          "name": "stdout",
          "text": [
            "Enter the temperature in celcius: 32\n",
            "Enter the temperature in fahrenheit: 32\n",
            "32 degree celcius is 89.6 fahrenheit\n",
            "32 degree fahrenheit is 0.0 celcius\n"
          ]
        }
      ]
    },
    {
      "cell_type": "markdown",
      "source": [
        "**Even or Odd :\n",
        "Write a program that checks if a number is even or odd.**\n"
      ],
      "metadata": {
        "id": "yeIo-I1hTKnd"
      }
    },
    {
      "cell_type": "code",
      "source": [
        "num=int(input('Enter a number: '))\n",
        "if num%2==0:\n",
        "  print(f'{num} is an even number')\n",
        "else:\n",
        "  print(f'{num} is a odd number')"
      ],
      "metadata": {
        "colab": {
          "base_uri": "https://localhost:8080/"
        },
        "id": "kElE6PoOTKxl",
        "outputId": "b271f4a8-bffd-4da6-9312-db2198904bba"
      },
      "execution_count": null,
      "outputs": [
        {
          "output_type": "stream",
          "name": "stdout",
          "text": [
            "Enter a number: 5\n",
            "5 is a odd number\n"
          ]
        }
      ]
    },
    {
      "cell_type": "markdown",
      "source": [
        "**Positive or Negative :\n",
        "Write a program that checks if a number is positive, negative, or zero.**\n"
      ],
      "metadata": {
        "id": "-0jQumYpTK6P"
      }
    },
    {
      "cell_type": "code",
      "source": [
        "num=int(input('Enter a number: '))\n",
        "if num==0:\n",
        "  print('The given number is zero')\n",
        "elif num>0:\n",
        "  print('The given number is positive')\n",
        "else:\n",
        "  print('The given number is negative')"
      ],
      "metadata": {
        "colab": {
          "base_uri": "https://localhost:8080/"
        },
        "id": "gskQqGQKTLGV",
        "outputId": "30a5ac96-4445-459b-cd74-3a2565028c89"
      },
      "execution_count": null,
      "outputs": [
        {
          "output_type": "stream",
          "name": "stdout",
          "text": [
            "Enter a number: 5\n",
            "The given number is positive\n"
          ]
        }
      ]
    },
    {
      "cell_type": "markdown",
      "source": [
        "**Discount Eligibility :\n",
        "Write a program that checks if a customer is eligible for a discount based on their purchase amount.**"
      ],
      "metadata": {
        "id": "2KxYey3QTLQ8"
      }
    },
    {
      "cell_type": "code",
      "source": [
        "dis_amt=1200\n",
        "amt=int(input('Enter the total purchase amount: '))\n",
        "if amt>=dis_amt:\n",
        "  print('Discount is applicable')\n",
        "else:\n",
        "  print('Discount is not applicable')"
      ],
      "metadata": {
        "colab": {
          "base_uri": "https://localhost:8080/"
        },
        "id": "pICcxXgtTLYt",
        "outputId": "43d0c39e-a0a2-474e-cda0-4f554aded971"
      },
      "execution_count": null,
      "outputs": [
        {
          "output_type": "stream",
          "name": "stdout",
          "text": [
            "Enter the total purchase amount: 900\n",
            "Discount is not applicable\n"
          ]
        }
      ]
    },
    {
      "cell_type": "markdown",
      "source": [
        "**Prime Number Check :\n",
        "Write a program that checks if a number is prime.**"
      ],
      "metadata": {
        "id": "Lwe4MYcGUwbT"
      }
    },
    {
      "cell_type": "code",
      "source": [
        "num=int(input('Enter a number: '))\n",
        "if num>1:\n",
        "  for i in range(2,num):\n",
        "    if num%i==0:\n",
        "      print(\"It's not a prime number\")\n",
        "      break\n",
        "  else:\n",
        "    print(\"It's a prime number\")\n",
        "else:\n",
        "  print(\"It's not a prime number\")"
      ],
      "metadata": {
        "colab": {
          "base_uri": "https://localhost:8080/"
        },
        "id": "XWxEE4CAUwl7",
        "outputId": "48290a4f-46a2-4a50-956a-1711e7c0a698"
      },
      "execution_count": null,
      "outputs": [
        {
          "output_type": "stream",
          "name": "stdout",
          "text": [
            "Enter a number: 5\n",
            "It's a prime number\n"
          ]
        }
      ]
    },
    {
      "cell_type": "markdown",
      "source": [
        "**BMI Calculator :\n",
        "Write a program that calculates the Body Mass Index (BMI) and categorizes it.**"
      ],
      "metadata": {
        "id": "zdVK8xuvUww7"
      }
    },
    {
      "cell_type": "code",
      "source": [
        "weight=float(input('Enter your weight in kg: '))\n",
        "height=float(input('Enter your height in m: '))\n",
        "bmi=weight/(height**2)\n",
        "print('The BMI value is: ',bmi)"
      ],
      "metadata": {
        "colab": {
          "base_uri": "https://localhost:8080/"
        },
        "id": "O04aTSs5Uw6z",
        "outputId": "c9068f18-b3d1-4ebd-9317-a615024ae3ca"
      },
      "execution_count": null,
      "outputs": [
        {
          "output_type": "stream",
          "name": "stdout",
          "text": [
            "Enter your weight in kg: 45\n",
            "Enter your height in m: 160\n",
            "The BMI value is:  0.0017578125\n"
          ]
        }
      ]
    },
    {
      "cell_type": "markdown",
      "source": [
        "**Divisibility Check :  \n",
        "Write a Python program that checks if a number is divisible by 3, 5, or both.**"
      ],
      "metadata": {
        "id": "brs4aA-NUxNL"
      }
    },
    {
      "cell_type": "code",
      "source": [
        "num=int(input('Enter a number: '))\n",
        "if num%3==0 and num%5==0:\n",
        "  print('The number is divisible by both 3&5')\n",
        "elif num%3==0:\n",
        "  print('The number is divisible by 3 only')\n",
        "elif num%5==0:\n",
        "  print('The number is divisible by 5 only')\n",
        "else:\n",
        "  print('The number, neither divisible by 5 nor by 3')"
      ],
      "metadata": {
        "colab": {
          "base_uri": "https://localhost:8080/"
        },
        "id": "1Paz1XVIUxUj",
        "outputId": "14b6dff5-211e-4c30-848f-79e57ca51bb0"
      },
      "execution_count": null,
      "outputs": [
        {
          "output_type": "stream",
          "name": "stdout",
          "text": [
            "Enter a number: 10\n",
            "The number is divisible by 5 only\n"
          ]
        }
      ]
    },
    {
      "cell_type": "markdown",
      "source": [
        "**Quadratic Equation Solver:  \n",
        "Write a Python program that solves quadratic equations (ax^2 + bx + c = 0) and displays the roots.**"
      ],
      "metadata": {
        "id": "wWIfpeVjUxgj"
      }
    },
    {
      "cell_type": "code",
      "source": [
        "import cmath\n",
        "a=int(input('Enter a: '))\n",
        "b=int(input('Enter b: '))\n",
        "c=int(input('Enter c: '))\n",
        "\n",
        "d=(b**2)-(4*a*c)\n",
        "sol1=(-b - cmath.sqrt(d))/2*a\n",
        "sol2=(-b + cmath.sqrt(d))/(2*a)\n",
        "\n",
        "print(f'The solution are {sol1:.2f} and {sol2:.2f}')"
      ],
      "metadata": {
        "colab": {
          "base_uri": "https://localhost:8080/"
        },
        "id": "s3JCodIuUxrL",
        "outputId": "3da38d4b-bd64-458c-d42f-c7d7d81a2a69"
      },
      "execution_count": null,
      "outputs": [
        {
          "output_type": "stream",
          "name": "stdout",
          "text": [
            "Enter a: 10\n",
            "Enter b: 12\n",
            "Enter c: 14\n",
            "The solution are -60.00-101.98j and -0.60+1.02j\n"
          ]
        }
      ]
    },
    {
      "cell_type": "markdown",
      "source": [
        "**Number Range Check :\n",
        "Write a Python program that checks if a given number lies within a certain range [10, 20]**\n"
      ],
      "metadata": {
        "id": "kw0c0L88Uxy7"
      }
    },
    {
      "cell_type": "code",
      "source": [
        "n=int(input('Enter a number: '))\n",
        "r=range(10,20)\n",
        "if n in r:\n",
        "  print('The number is in the range')\n",
        "else:\n",
        "  print('The number is not in the range')"
      ],
      "metadata": {
        "colab": {
          "base_uri": "https://localhost:8080/"
        },
        "id": "mpnktX5sUx6L",
        "outputId": "e3f89210-defb-4892-9f75-299e9d48df99"
      },
      "execution_count": null,
      "outputs": [
        {
          "output_type": "stream",
          "name": "stdout",
          "text": [
            "Enter a number: 10\n",
            "The number is in the range\n"
          ]
        }
      ]
    },
    {
      "cell_type": "markdown",
      "source": [
        "**Triangle Validity :\n",
        " Write a Python program to check whether a triangle is valid or not given its three sides.**"
      ],
      "metadata": {
        "id": "_f2D5h4_V0Q8"
      }
    },
    {
      "cell_type": "code",
      "source": [
        "side=input('Enter the sides with comma: ')\n",
        "side=side.split(',')\n",
        "s_count=len(side)\n",
        "if s_count==3:\n",
        "  print('It is a triangle')\n",
        "else:\n",
        "  print('It is not a triangle')"
      ],
      "metadata": {
        "colab": {
          "base_uri": "https://localhost:8080/"
        },
        "id": "NqpF85RdV0bI",
        "outputId": "13fbc987-9182-4c76-b4bd-40a59285e3db"
      },
      "execution_count": null,
      "outputs": [
        {
          "output_type": "stream",
          "name": "stdout",
          "text": [
            "Enter the sides with comma: 12,13,14\n",
            "It is a triangle\n"
          ]
        }
      ]
    },
    {
      "cell_type": "markdown",
      "source": [
        "**Password Strength Check :\n",
        "Write a Python program to check the strength of a password. It should have at least 8 characters, include at least one number, and at least one uppercase letter.**"
      ],
      "metadata": {
        "id": "A8y7nPTaV0ma"
      }
    },
    {
      "cell_type": "code",
      "source": [
        "import re\n",
        "password=input('Enter your password:')\n",
        "if len(password)>=8 and re.search('[a-z]',password) and re.search('[A-Z]',password) and re.search('[@_$]', password):\n",
        "  print('Valid password')\n",
        "else:\n",
        "  print('Invalid password')"
      ],
      "metadata": {
        "colab": {
          "base_uri": "https://localhost:8080/"
        },
        "id": "-5DW4Ev5V0tp",
        "outputId": "1f2ff0c0-f3d9-421c-9dde-a921d9ea27f1"
      },
      "execution_count": null,
      "outputs": [
        {
          "output_type": "stream",
          "name": "stdout",
          "text": [
            "Enter your password:xgd\n",
            "Invalid password\n"
          ]
        }
      ]
    },
    {
      "cell_type": "markdown",
      "source": [
        "**Income Tax Calculation :\n",
        "Write a Python program to calculate the income tax based on given slabs.**"
      ],
      "metadata": {
        "id": "ezCGSJFvV0z3"
      }
    },
    {
      "cell_type": "code",
      "source": [
        "income=int(input('Enter the total income: '))\n",
        "if income<=10000:\n",
        "  tax=0\n",
        "elif income<=20000:\n",
        "  tax=(income-10000)*(10/100)\n",
        "else:\n",
        "  tax=(income-20000)*(20/100)+(10000*0.1)\n",
        "print(f'The tax amount is {tax}')"
      ],
      "metadata": {
        "colab": {
          "base_uri": "https://localhost:8080/"
        },
        "id": "dQvNS87mV1FS",
        "outputId": "6e965ac6-2455-4256-d706-aa5539cf5af0"
      },
      "execution_count": null,
      "outputs": [
        {
          "output_type": "stream",
          "name": "stdout",
          "text": [
            "Enter the total income: 1000\n",
            "The tax amount is 0\n"
          ]
        }
      ]
    },
    {
      "cell_type": "markdown",
      "source": [
        "**Calculate Electricity Bill :\n",
        "Write a Python program to calculate the electricity bill based on the following rates:**"
      ],
      "metadata": {
        "id": "j_S-2lHYV1OI"
      }
    },
    {
      "cell_type": "code",
      "source": [
        "units=int(input('Enter the unit: '))\n",
        "if units<=100:\n",
        "  bill=units*10\n",
        "elif 100< units <=200:\n",
        "  bill=(100*10)+(units-100)*15\n",
        "elif 200< units <=300:\n",
        "  bill=(100*10)+(units-100)*15+(units-200)*20\n",
        "else:\n",
        "  bill=(100*10)+(units-100)*15+(units-200)*20+(units-300)*25\n",
        "print(f' The bill amount is {bill}')"
      ],
      "metadata": {
        "colab": {
          "base_uri": "https://localhost:8080/"
        },
        "id": "6UFmOdWVV1Va",
        "outputId": "c033df6f-c38a-464d-9fdb-709e1e7d1db6"
      },
      "execution_count": null,
      "outputs": [
        {
          "output_type": "stream",
          "name": "stdout",
          "text": [
            "Enter the unit: 100\n",
            " The bill amount is 1000\n"
          ]
        }
      ]
    },
    {
      "cell_type": "markdown",
      "source": [
        "**Calculate Grade :\n",
        "Write a Python program to calculate the grade of a student based on their marks**"
      ],
      "metadata": {
        "id": "AnNG3KR9V1eS"
      }
    },
    {
      "cell_type": "code",
      "source": [
        "mark=int(input('Enter your mark: '))\n",
        "if mark>450:\n",
        "  print('A1 Grade')\n",
        "elif 450<mark<400:\n",
        "  print('A Grade')\n",
        "elif mark<350 and mark<=400:\n",
        "  print('B Grade')\n",
        "elif mark<300 and mark<=350:\n",
        "  print('C Grade')\n",
        "elif mark<250 and mark<=300:\n",
        "  print('D Grade')\n",
        "else:\n",
        "  print('E Grade')"
      ],
      "metadata": {
        "colab": {
          "base_uri": "https://localhost:8080/"
        },
        "id": "IjNDrZFgV1lo",
        "outputId": "eb70a328-2931-4774-8e20-408b0face4f6"
      },
      "execution_count": null,
      "outputs": [
        {
          "output_type": "stream",
          "name": "stdout",
          "text": [
            "Enter your mark: 500\n",
            "A1 Grade\n"
          ]
        }
      ]
    },
    {
      "cell_type": "markdown",
      "source": [
        "**Convert 24-hour to 12-hour Time Format :\n",
        "Write a Python program to convert time from 24-hour format to 12-hour format**"
      ],
      "metadata": {
        "id": "0KPaNqlHW--L"
      }
    },
    {
      "cell_type": "code",
      "source": [
        "time=input('Enter the time in 24 hour format: ')\n",
        "time=time.split(':')\n",
        "hours=int(time[0])\n",
        "minutes=int(time[1])\n",
        "if hours==0:\n",
        "  hours=12\n",
        "  period='AM'\n",
        "elif hours<12:\n",
        "  period='AM'\n",
        "elif hours==12:\n",
        "  period='PM'\n",
        "else:\n",
        "  hours-=12\n",
        "  period='PM'\n",
        "print(f'{hours}:{minutes} {period}')"
      ],
      "metadata": {
        "colab": {
          "base_uri": "https://localhost:8080/"
        },
        "id": "tuQXWohUW_NL",
        "outputId": "75eb5377-5574-4543-b0eb-9759a2404bba"
      },
      "execution_count": null,
      "outputs": [
        {
          "output_type": "stream",
          "name": "stdout",
          "text": [
            "Enter the time in 24 hour format: 12:24\n",
            "12:24 PM\n"
          ]
        }
      ]
    },
    {
      "cell_type": "markdown",
      "source": [
        "**BMI Categorization :\n",
        "Write a Python program to calculate the BMI (Body Mass Index) and categorize it.**"
      ],
      "metadata": {
        "id": "aTJNlHqxW_Xk"
      }
    },
    {
      "cell_type": "code",
      "source": [
        "weight=float(input('Enter your weight in kg:'))\n",
        "height=float(input('Enter your height in m: '))\n",
        "bmi=weight/(height**2)\n",
        "if bmi<18.5:\n",
        "  print('Underweight')\n",
        "elif 18.5<bmi <=25:\n",
        "  print('Normal')\n",
        "elif 25< bmi <=30:\n",
        "  print('Overweight')\n",
        "else:\n",
        "  print('Obesity')"
      ],
      "metadata": {
        "colab": {
          "base_uri": "https://localhost:8080/"
        },
        "id": "igAirku0W_iz",
        "outputId": "4a1d0df7-8561-4b0b-f87c-d607b59238ce"
      },
      "execution_count": null,
      "outputs": [
        {
          "output_type": "stream",
          "name": "stdout",
          "text": [
            "Enter your weight in kg:50\n",
            "Enter your height in m: 160\n",
            "Underweight\n"
          ]
        }
      ]
    },
    {
      "cell_type": "markdown",
      "source": [
        "**Determine Season from Month :\n",
        "Write a Python program to determine the season based on the given month**"
      ],
      "metadata": {
        "id": "PIQxs2zUW_qL"
      }
    },
    {
      "cell_type": "code",
      "source": [
        "month=input('Enter month: ')\n",
        "if month.lower() in ['december','january','february']:\n",
        "  print(\"It's winter season\")\n",
        "elif month.lower() in ['march','april','may']:\n",
        "  print(\"It's summer season\")\n",
        "elif month.lower() in ['june','july','august','september']:\n",
        "  print(\"It's monsoon season\")\n",
        "else:\n",
        "  print(\"It's post-monsoon season\")"
      ],
      "metadata": {
        "colab": {
          "base_uri": "https://localhost:8080/"
        },
        "id": "mGC92HPaW_xt",
        "outputId": "92f542cb-b21c-41d7-e49b-86963d9a606e"
      },
      "execution_count": null,
      "outputs": [
        {
          "output_type": "stream",
          "name": "stdout",
          "text": [
            "Enter month: march\n",
            "It's summer season\n"
          ]
        }
      ]
    },
    {
      "cell_type": "markdown",
      "source": [
        "**Day of the Week :\n",
        "Write a Python program that maps a number (1-7) to a day of the week**"
      ],
      "metadata": {
        "id": "l70fzyoXXACE"
      }
    },
    {
      "cell_type": "code",
      "source": [
        "days = {\n",
        "    1: 'Sunday',\n",
        "    2: 'Monday',\n",
        "    3: 'Tuesday',\n",
        "    4: 'Wednesday',\n",
        "    5: 'Thursday',\n",
        "    6: 'Friday',\n",
        "    7: 'Saturday'\n",
        "}\n",
        "n = int(input('Enter a number (1-7): '))\n",
        "if 1 <= n <= 7:\n",
        "    print(f'The day of the week for the number {n} is {days[n]}')\n",
        "else:\n",
        "    print('Invalid number. Please enter a number between 1 and 7.')\n"
      ],
      "metadata": {
        "colab": {
          "base_uri": "https://localhost:8080/"
        },
        "id": "XQN_4pYsXAJr",
        "outputId": "19ea8621-b0aa-4f1b-df92-e2ec1a35767e"
      },
      "execution_count": null,
      "outputs": [
        {
          "output_type": "stream",
          "name": "stdout",
          "text": [
            "Enter a number (1-7): 1\n",
            "The day of the week for the number 1 is Sunday\n"
          ]
        }
      ]
    },
    {
      "cell_type": "markdown",
      "source": [
        "**Check Vowel or Consonant:\n",
        "Write a Python program that checks whether a given character is a vowel or consonant**"
      ],
      "metadata": {
        "id": "N19MRK8wX2HO"
      }
    },
    {
      "cell_type": "code",
      "source": [
        "c=input('Enter a character: ')\n",
        "if c.isdigit():\n",
        "  print('Invalid! Enter a character')\n",
        "elif c.lower() in ['a','e','i','o','u']:\n",
        "  print('The given character is a vowel')\n",
        "else:\n",
        "  print('The given character is a consonant')"
      ],
      "metadata": {
        "colab": {
          "base_uri": "https://localhost:8080/"
        },
        "id": "IA1gOxFNX2PH",
        "outputId": "c811d946-cc69-4762-d434-f55019509192"
      },
      "execution_count": null,
      "outputs": [
        {
          "output_type": "stream",
          "name": "stdout",
          "text": [
            "Enter a character: a\n",
            "The given character is a vowel\n"
          ]
        }
      ]
    },
    {
      "cell_type": "markdown",
      "source": [
        "**Employee Bonus Calculation:\n",
        "Write a Python program that calculates the bonus for an employee based on their years of service.**"
      ],
      "metadata": {
        "id": "ycjAi8aFYBQV"
      }
    },
    {
      "cell_type": "code",
      "source": [
        "emp_det=[]\n",
        "while True:\n",
        "    data=input(\"Enter employee's (name,year of service,salary): \")\n",
        "    if data=='':\n",
        "        break\n",
        "    data=data.split(',')\n",
        "    name=data[0]\n",
        "    year=int(data[1])\n",
        "    salary=int(data[2])\n",
        "\n",
        "    if year>10:\n",
        "        bonus_salary=salary+salary*(10/100)\n",
        "    elif 5<year<=10:\n",
        "        bonus_salary=salary+salary*(5/100)\n",
        "    else:\n",
        "        bonus_salary=salary+salary*(2/100)\n",
        "\n",
        "    emp_det.append([name,year,salary,bonus_salary])\n",
        "\n",
        "print('Employee details after bonus calculation:')\n",
        "for detail in emp_det:\n",
        "  print(detail)"
      ],
      "metadata": {
        "colab": {
          "base_uri": "https://localhost:8080/"
        },
        "id": "qexdmmfyYBb9",
        "outputId": "0736182f-c6fc-4184-c6e8-bf8ac79f02e1"
      },
      "execution_count": null,
      "outputs": [
        {
          "output_type": "stream",
          "name": "stdout",
          "text": [
            "Enter employee's (name,year of service,salary): Ashley,10,56000\n",
            "Enter employee's (name,year of service,salary): \n",
            "Employee details after bonus calculation:\n",
            "['Ashley', 10, 56000, 58800.0]\n"
          ]
        }
      ]
    },
    {
      "cell_type": "markdown",
      "source": [
        "**Check Palindrome:\n",
        "Write a Python program that checks whether a given string is a palindrome.**"
      ],
      "metadata": {
        "id": "Ww3D-zXfYOPF"
      }
    },
    {
      "cell_type": "code",
      "source": [
        "st_value=input('Enter a value: ')\n",
        "st_low=st_value.lower()\n",
        "if st_low==st_low[::-1]:\n",
        "  print('The given number is a palindrome')\n",
        "else:\n",
        "  print('The given number is not a palindrome')"
      ],
      "metadata": {
        "colab": {
          "base_uri": "https://localhost:8080/"
        },
        "id": "v1OjgURjYOXW",
        "outputId": "c88157a6-5ab8-46d4-f473-2bdf2fcfdb1d"
      },
      "execution_count": null,
      "outputs": [
        {
          "output_type": "stream",
          "name": "stdout",
          "text": [
            "Enter a value: hello\n",
            "The given number is not a palindrome\n"
          ]
        }
      ]
    }
  ]
}